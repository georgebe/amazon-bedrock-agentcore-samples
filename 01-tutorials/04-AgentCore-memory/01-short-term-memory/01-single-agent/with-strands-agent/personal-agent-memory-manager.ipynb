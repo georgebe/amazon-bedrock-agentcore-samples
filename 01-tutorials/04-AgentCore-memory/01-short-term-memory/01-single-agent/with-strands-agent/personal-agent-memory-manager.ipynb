{
 "cells": [
  {
   "cell_type": "markdown",
   "id": "overview",
   "metadata": {},
   "source": [
    "# Strands Agents with AgentCore Memory (Short-Term Memory) - Using MemoryManager\n",
    "\n",
    "\n",
    "## Introduction\n",
    "\n",
    "This tutorial demonstrates how to build a **personal agent** using Strands agents with AgentCore **short-term memory** using **MemoryManager** and **MemorySessionManager**. The agent remembers recent conversations in the session using `get_last_k_turns` and can continue conversations seamlessly when user returns.\n",
    "\n",
    "**NOTE: This is the Short Term Memory Sample version using the MemoryManager & MemorySessionManager architecture.**\n",
    "\n",
    "\n",
    "### Tutorial Details\n",
    "\n",
    "| Information         | Details                                                                          |\n",
    "|:--------------------|:---------------------------------------------------------------------------------|\n",
    "| Tutorial type       | Short Term Conversational                                                        |\n",
    "| Agent type          | Personal Agent                                                                   |\n",
    "| Agentic Framework   | Strands Agents                                                                   |\n",
    "| LLM model           | Anthropic Claude Sonnet 3.7                                                      |\n",
    "| Tutorial components | AgentCore Short-term Memory with MemoryManager, AgentInitializedEvent and MessageAddedEvent hooks   |\n",
    "| Example complexity  | Beginner                                                                         |\n",
    "\n",
    "You'll learn to:\n",
    "- Use short-term memory for conversation continuity with new MemoryManager\n",
    "- Retrieve last K conversation turns using MemorySessionManager\n",
    "- Web search tool for real-time information\n",
    "- Initialize agents with conversation history using session management\n",
    "- Can use this to help Migrate from MemoryClient to MemoryManager architecture\n",
    "\n",
    "## Architecture\n",
    "<div style=\"text-align:left\">\n",
    "    <img src=\"architecture.png\" width=\"65%\" />\n",
    "</div>\n",
    "\n",
    "## Prerequisites\n",
    "\n",
    "To execute this tutorial you will need:\n",
    "- Python 3.10+\n",
    "- AWS credentials with AgentCore Memory permissions\n",
    "- Amazon Bedrock AgentCore SDK with new MemoryManager support\n",
    "- Access to Amazon Bedrock models\n",
    "\n",
    "Let's get started by setting up our environment!"
   ]
  },
  {
   "cell_type": "markdown",
   "id": "setup",
   "metadata": {},
   "source": [
    "## Step 1: Setup and Imports"
   ]
  },
  {
   "cell_type": "code",
   "execution_count": null,
   "id": "641512ed",
   "metadata": {},
   "outputs": [],
   "source": [
    "!pip install -qr requirements_personal.txt"
   ]
  },
  {
   "cell_type": "code",
   "execution_count": 2,
   "id": "setup_code",
   "metadata": {},
   "outputs": [],
   "source": [
    "import logging\n",
    "from datetime import datetime\n",
    "from botocore.exceptions import ClientError\n",
    "\n",
    "# Setup logging\n",
    "logging.basicConfig(level=logging.INFO, format=\"%(asctime)s - %(levelname)s - %(message)s\")\n",
    "logger = logging.getLogger(\"personal-agent-migrated\")"
   ]
  },
  {
   "cell_type": "code",
   "execution_count": 3,
   "id": "imports",
   "metadata": {},
   "outputs": [],
   "source": [
    "# Import required modules for Strands Agent\n",
    "import os\n",
    "from strands import Agent, tool\n",
    "from strands.hooks import AgentInitializedEvent, HookProvider, HookRegistry, MessageAddedEvent\n",
    "\n",
    "# Import memory management modules\n",
    "from bedrock_agentcore_starter_toolkit.operations.memory.manager import MemoryManager\n",
    "from bedrock_agentcore.memory.constants import ConversationalMessage, MessageRole\n",
    "from bedrock_agentcore.memory.session import MemorySession, MemorySessionManager\n",
    "\n",
    "# Define message role constants\n",
    "USER = MessageRole.USER\n",
    "ASSISTANT = MessageRole.ASSISTANT\n",
    "\n",
    "# Configuration\n",
    "REGION = os.getenv('AWS_REGION', 'us-east-1') # AWS region for the agent\n",
    "ACTOR_ID = \"user_123\" # It can be any unique identifier (AgentID, User ID, etc.)\n",
    "SESSION_ID = \"personal_session_001\" # Unique session identifier\n",
    "\n",
    "# Import boto3 for IAM role creation\n",
    "import boto3\n",
    "import json as json_module"
   ]
  },
  {
   "cell_type": "markdown",
   "id": "step2",
   "metadata": {},
   "source": [
    "## Step 2: Web Search Tool\n",
    "\n",
    "First, let's create a simple web search tool for the agent. This remains unchanged from the original implementation."
   ]
  },
  {
   "cell_type": "code",
   "execution_count": null,
   "id": "web_search",
   "metadata": {},
   "outputs": [],
   "source": [
    "from ddgs.exceptions import DDGSException, RatelimitException\n",
    "from ddgs import DDGS\n",
    "\n",
    "@tool\n",
    "def websearch(keywords: str, region: str = \"us-en\", max_results: int = 5) -> str:\n",
    "    \"\"\"Search the web for updated information.\n",
    "    \n",
    "    Args:\n",
    "        keywords (str): The search query keywords.\n",
    "        region (str): The search region: wt-wt, us-en, uk-en, ru-ru, etc..\n",
    "        max_results (int | None): The maximum number of results to return.\n",
    "    Returns:\n",
    "        List of dictionaries with search results.\n",
    "    \n",
    "    \"\"\"\n",
    "    try:\n",
    "        results = DDGS().text(keywords, region=region, max_results=max_results)\n",
    "        return results if results else \"No results found.\"\n",
    "    except RatelimitException:\n",
    "        return \"Rate limit reached. Please try again later.\"\n",
    "    except DDGSException as e:\n",
    "        return f\"Search error: {e}\"\n",
    "    except Exception as e:\n",
    "        return f\"Search error: {str(e)}\"\n",
    "\n",
    "logger.info(\"✅ Web search tool ready\")"
   ]
  },
  {
   "cell_type": "markdown",
   "id": "step3",
   "metadata": {},
   "source": [
    "## Step 3: Create Memory Resource using MemoryManager\n",
    "\n",
    "For short-term memory, we create a memory resource without any strategies using MemoryManager. This stores raw conversation turns that can be retrieved with `get_last_k_turns`.\n",
    "\n",
    "**NOTE: This section uses the MemoryManager architecture instead of the legacy MemoryClient.**"
   ]
  },
  {
   "cell_type": "code",
   "execution_count": null,
   "id": "create_memory",
   "metadata": {},
   "outputs": [],
   "source": [
    "# Initialize Memory Manager \n",
    "memory_manager = MemoryManager(region_name=REGION)\n",
    "memory_name = \"PersonalAgentMemoryManager\"\n",
    "\n",
    "logger.info(f\"✅ MemoryManager initialized for region: {REGION}\")\n",
    "logger.info(f\"Memory manager type: {type(memory_manager)}\")\n",
    "\n",
    "# Create memory resource using MemoryManager\n",
    "logger.info(f\"Creating memory '{memory_name}' for short-term conversational storage...\")\n",
    "\n",
    "try:\n",
    "    memory = memory_manager.get_or_create_memory(\n",
    "        name=memory_name,\n",
    "        strategies=[],  # No strategies for short-term memory\n",
    "        description=\"Short-term memory for personal agent - migrated version\",\n",
    "        event_expiry_days=7,  # Retention period for short-term memory\n",
    "        memory_execution_role_arn=None,  # Optional for short-term memory\n",
    "    )\n",
    "    memory_id = memory.id\n",
    "    logger.info(f\"✅ Successfully created/retrieved memory with NEW MemoryManager:\")\n",
    "    logger.info(f\"   Memory ID: {memory_id}\")\n",
    "    logger.info(f\"   Memory Name: {memory.name}\")\n",
    "    logger.info(f\"   Memory Status: {memory.status}\")\n",
    "    \n",
    "except Exception as e:\n",
    "    # Handle any errors during memory creation with enhanced error reporting\n",
    "    logger.error(f\"❌ Memory creation failed: {e}\")\n",
    "    logger.error(f\"Error type: {type(e).__name__}\")\n",
    "    import traceback\n",
    "    traceback.print_exc()\n",
    "    \n",
    "    # Cleanup on error - delete the memory if it was partially created\n",
    "    if 'memory_id' in locals():\n",
    "        try:\n",
    "            logger.info(f\"Attempting cleanup of partially created memory: {memory_id}\")\n",
    "            memory_manager.delete_memory(memory_id)\n",
    "            logger.info(f\"✅ Successfully cleaned up memory: {memory_id}\")\n",
    "        except Exception as cleanup_error:\n",
    "            logger.error(f\"❌ Failed to clean up memory: {cleanup_error}\")\n",
    "    \n",
    "    # Re-raise the original exception\n",
    "    raise"
   ]
  },
  {
   "cell_type": "markdown",
   "id": "step4",
   "metadata": {},
   "source": [
    "## Step 4: Initialize Session Manager\n",
    "\n",
    "This section introduces the MemorySessionManager for session-based memory operations and creates a MemorySession to manage actor & session"
   ]
  },
  {
   "cell_type": "code",
   "execution_count": null,
   "id": "c7337255",
   "metadata": {},
   "outputs": [],
   "source": [
    "# Initialize the session memory manager\n",
    "session_manager = MemorySessionManager(memory_id=memory.id, region_name=REGION)\n",
    "\n",
    "# Create a memory session for the specific actor/session combination\n",
    "user_session = session_manager.create_memory_session(\n",
    "    actor_id=ACTOR_ID, \n",
    "    session_id=SESSION_ID\n",
    ")\n",
    "\n",
    "logger.info(f\"✅ Session manager initialized for memory: {memory.id}\")\n",
    "logger.info(f\"✅ Memory session created for actor: {ACTOR_ID}, session: {SESSION_ID}\")\n",
    "logger.info(f\"Session manager type: {type(session_manager)}\")\n",
    "logger.info(f\"Memory session type: {type(user_session)}\")"
   ]
  },
  {
   "cell_type": "markdown",
   "id": "step5",
   "metadata": {},
   "source": [
    "## Step 5: Memory Hook Provider\n",
    "\n",
    "This step defines our custom `MemoryHookProvider` class that automates memory operations using the MemorySession. Hooks are special functions that run at specific points in an agent's execution lifecycle. The memory hook we're creating serves two primary functions:\n",
    "1. **To load recent conversation**: We use the `AgentInitializedEvent` hook to automatically load recent conversation history when the agent is initialized.\n",
    "2. **To store the last message**: Stores new conversational messages using the new session manager.\n",
    "\n",
    "**KEY CHANGES from MemoryClient version:**\n",
    "- Uses MemorySession instead of MemoryClient\n",
    "- Uses ConversationalMessage objects instead of tuples\n",
    "- Uses add_turns() instead of create_event()\n",
    "- Uses MessageRole enum for type safety"
   ]
  },
  {
   "cell_type": "code",
   "execution_count": 7,
   "id": "adec11de",
   "metadata": {},
   "outputs": [],
   "source": [
    "class MemoryHookProvider(HookProvider):\n",
    "    def __init__(self, memory_session: MemorySession):  # Accept MemorySession instead\n",
    "        self.memory_session = memory_session\n",
    "    \n",
    "    def on_agent_initialized(self, event: AgentInitializedEvent):\n",
    "        \"\"\"Load recent conversation history when agent starts using MemorySession\"\"\"\n",
    "        try:\n",
    "            # Use the pre-configured memory session (no need for actor_id/session_id)\n",
    "            recent_turns = self.memory_session.get_last_k_turns(k=5)\n",
    "            \n",
    "            if recent_turns:\n",
    "                # Format conversation history for context\n",
    "                context_messages = []\n",
    "                for turn in recent_turns:\n",
    "                    for message in turn:\n",
    "                        # Handle both EventMessage objects and dict formats\n",
    "                        if hasattr(message, 'role') and hasattr(message, 'content'):\n",
    "                            role = message['role']\n",
    "                            content = message['content']\n",
    "                        else:\n",
    "                            role = message.get('role', 'unknown')\n",
    "                            content = message.get('content', {}).get('text', '')\n",
    "                        context_messages.append(f\"{role}: {content}\")\n",
    "                \n",
    "                context = \"\\n\".join(context_messages)\n",
    "                # Add context to agent's system prompt\n",
    "                event.agent.system_prompt += f\"\\n\\nRecent conversation:\\n{context}\"\n",
    "                logger.info(f\"✅ Loaded {len(recent_turns)} conversation turns using MemorySession\")\n",
    "                \n",
    "        except Exception as e:\n",
    "            logger.error(f\"Memory load error: {e}\")\n",
    "\n",
    "    def on_message_added(self, event: MessageAddedEvent):\n",
    "        \"\"\"Store messages in memory using MemorySession\"\"\"\n",
    "        messages = event.agent.messages\n",
    "        try:\n",
    "            if messages and len(messages) > 0 and messages[-1][\"content\"][0].get(\"text\"):\n",
    "                message_text = messages[-1][\"content\"][0][\"text\"]\n",
    "                message_role = MessageRole.USER if messages[-1][\"role\"] == \"user\" else MessageRole.ASSISTANT\n",
    "                \n",
    "                # Use memory session instance (no need to pass actor_id/session_id)\n",
    "                result = self.memory_session.add_turns(\n",
    "                    messages=[ConversationalMessage(message_text, message_role)]\n",
    "                )\n",
    "                \n",
    "                event_id = result['eventId']\n",
    "                logger.info(f\"✅ Stored message with Event ID: {event_id}, Role: {message_role.value}\")\n",
    "                \n",
    "        except Exception as e:\n",
    "            logger.error(f\"Memory save error: {e}\")\n",
    "            import traceback\n",
    "            logger.error(f\"Full traceback: {traceback.format_exc()}\")\n",
    "    \n",
    "    def register_hooks(self, registry: HookRegistry):\n",
    "        # Register memory hooks\n",
    "        registry.add_callback(MessageAddedEvent, self.on_message_added)\n",
    "        registry.add_callback(AgentInitializedEvent, self.on_agent_initialized)\n",
    "        logger.info(\"✅ Memory hooks registered with MemorySession\")\n"
   ]
  },
  {
   "cell_type": "markdown",
   "id": "step6",
   "metadata": {},
   "source": [
    "## Step 6: Create Personal Agent with Web Search\n",
    "\n",
    "This agent uses the MemoryHookProvider that works with MemorySession created from MemorySessionManager instead of MemoryClient."
   ]
  },
  {
   "cell_type": "code",
   "execution_count": null,
   "id": "8fefeb53",
   "metadata": {},
   "outputs": [],
   "source": [
    "def create_personal_agent():\n",
    "    \"\"\"Create personal agent with memory and web search using MemorySession\"\"\"\n",
    "    agent = Agent(\n",
    "        name=\"PersonalAssistant\",\n",
    "        model=\"us.anthropic.claude-3-7-sonnet-20250219-v1:0\",  # or your preferred model\n",
    "        system_prompt=f\"\"\"You are a helpful personal assistant with web search capabilities.\n",
    "        \n",
    "        You can help with:\n",
    "        - General questions and information lookup\n",
    "        - Web searches for current information\n",
    "        - Personal task management\n",
    "        \n",
    "        When you need current information, use the websearch function.\n",
    "        Today's date: {datetime.today().strftime('%Y-%m-%d')}\n",
    "        Be friendly and professional.\"\"\",\n",
    "        hooks=[MemoryHookProvider(user_session)],  # Pass MemorySession instead of MemorySessionManager\n",
    "        tools=[websearch],\n",
    "    )\n",
    "    return agent\n",
    "\n",
    "# Create agent\n",
    "agent = create_personal_agent()\n",
    "logger.info(\"✅ Personal agent created with MemorySession and web search\")"
   ]
  },
  {
   "cell_type": "markdown",
   "id": "step7",
   "metadata": {},
   "source": [
    "#### Congratulations ! Your agent is ready with the MemoryManager & MemorySession\n",
    "## Let's test the Agent"
   ]
  },
  {
   "cell_type": "code",
   "execution_count": null,
   "id": "first_session",
   "metadata": {},
   "outputs": [],
   "source": [
    "# Test conversation with memory\n",
    "print(\"=== First Conversation ===\")\n",
    "print(f\"User: My name is Alex and I'm interested in learning about AI.\")\n",
    "print(f\"Agent: \", end=\"\")\n",
    "agent(\"My name is Alex and I'm interested in learning about AI.\")"
   ]
  },
  {
   "cell_type": "code",
   "execution_count": null,
   "id": "second_message",
   "metadata": {},
   "outputs": [],
   "source": [
    "print(f\"User: Can you search for the latest AI trends in 2025?\")\n",
    "print(f\"Agent: \", end=\"\")\n",
    "agent(\"Can you search for the latest AI trends in 2025?\")"
   ]
  },
  {
   "cell_type": "code",
   "execution_count": null,
   "id": "third_message",
   "metadata": {},
   "outputs": [],
   "source": [
    "print(f\"User: I'm particularly interested in machine learning applications.\")\n",
    "print(f\"Agent: \", end=\"\")\n",
    "agent(\"I'm particularly interested in machine learning applications.\")"
   ]
  },
  {
   "cell_type": "markdown",
   "id": "step8",
   "metadata": {},
   "source": [
    "## Test Memory Continuity with MemorySessionManager\n",
    "\n",
    "To test if our memory system is working correctly, we'll create a new instance of the agent and see if it can access the previously stored information using MemorySessionManager:"
   ]
  },
  {
   "cell_type": "code",
   "execution_count": null,
   "id": "agent_restart",
   "metadata": {},
   "outputs": [],
   "source": [
    "# Create new agent instance (simulates user returning)\n",
    "print(\"=== User Returns - New Session ===\")\n",
    "new_agent = create_personal_agent()\n",
    "\n",
    "# Test memory continuity\n",
    "print(f\"User: What was my name again?\")\n",
    "print(f\"Agent: \", end=\"\")\n",
    "new_agent(\"What was my name again?\")\n",
    "\n",
    "print(f\"User: Can you search for more information about machine learning?\")\n",
    "print(f\"Agent: \", end=\"\")\n",
    "new_agent(\"Can you search for more information about machine learning?\")"
   ]
  },
  {
   "cell_type": "markdown",
   "id": "step9",
   "metadata": {},
   "source": [
    "## View Stored Memory using MemorySessionManager"
   ]
  },
  {
   "cell_type": "code",
   "execution_count": null,
   "id": "verify_memory",
   "metadata": {},
   "outputs": [],
   "source": [
    "# Check what's stored in memory using NEW MemorySessionManager\n",
    "print(\"=== Memory Contents ===\")\n",
    "recent_turns = session_manager.get_last_k_turns(\n",
    "    actor_id=ACTOR_ID,\n",
    "    sesssion_id=SESSION_ID,\n",
    "    k=3 # Adjust k to see more or fewer turns\n",
    ")\n",
    "\n",
    "for i, turn in enumerate(recent_turns, 1):\n",
    "    print(f\"Turn {i}:\")\n",
    "    for message in turn:\n",
    "        role = message['role']\n",
    "        content = message['content']['text'][:100] + \"...\" if len(message['content']['text']) > 100 else message['content']['text']\n",
    "        print(f\"  {role}: {content}\")\n",
    "    print()"
   ]
  },
  {
   "cell_type": "code",
   "execution_count": null,
   "id": "80c5c013",
   "metadata": {},
   "outputs": [],
   "source": [
    "# Check what's stored in memory using MemorySession\n",
    "print(\"=== Memory Contents ===\")\n",
    "recent_turns = user_session.get_last_k_turns(k=3) \n",
    "\n",
    "for i, turn in enumerate(recent_turns, 1):\n",
    "    print(f\"Turn {i}:\")\n",
    "    for message in turn:\n",
    "        role = message['role']\n",
    "        content = message['content']['text'][:100] + \"...\" if len(message['content']['text']) > 100 else message['content']['text']\n",
    "        print(f\"  {role}: {content}\")\n",
    "    print()"
   ]
  },
  {
   "cell_type": "markdown",
   "id": "summary",
   "metadata": {},
   "source": [
    "## Summary\n",
    "\n",
    "This tutorial showed how to build a personal agent using both MemorySessionManager and MemorySession. You've learned:\n",
    "\n",
    "- **MemorySessionManager**: High-level manager for memory operations across multiple sessions\n",
    "- **MemorySession**: Session-specific interface that eliminates repetitive parameter passing. Using MemorySession removes the need to pass actor_id/session_id to every method\n",
    "- **Type Safety**: Session is bound to specific actor/session at creation time\n",
    "- **Better Encapsulation**: Session-specific operations are contained within the session object\n",
    "- **Memory Hooks**: Agent hooks can work with the session-based architecture\n",
    "- **Conversation Continuity**: Maintaining short-term memory functionality with MemoryManager & MemorySession\n",
    "\n",
    "### Key Benefits of MemorySession:\n",
    "1. **Simplified API**: No need to pass actor_id/session_id to every method call\n",
    "2. **Pre-configured Context**: Session is bound to specific actor/session at creation\n",
    "3. **Consistent Interface**: All session operations use the same pre-configured context\n"
   ]
  },
  {
   "cell_type": "markdown",
   "id": "cleanup",
   "metadata": {},
   "source": [
    "## Cleanup (Optional)"
   ]
  },
  {
   "cell_type": "code",
   "execution_count": null,
   "id": "cleanup_code",
   "metadata": {},
   "outputs": [],
   "source": [
    "# Uncomment to delete memory resource using NEW MemoryManager\n",
    "# try:\n",
    "#     memory_manager.delete_memory(memory_id)\n",
    "#     logger.info(f\"✅ Deleted memory: {memory_id}\")\n",
    "# except Exception as e:\n",
    "#     logger.error(f\"Failed to delete memory: {e}\")"
   ]
  }
 ],
 "metadata": {
  "kernelspec": {
   "display_name": "venv",
   "language": "python",
   "name": "python3"
  },
  "language_info": {
   "codemirror_mode": {
    "name": "ipython",
    "version": 3
   },
   "file_extension": ".py",
   "mimetype": "text/x-python",
   "name": "python",
   "nbconvert_exporter": "python",
   "pygments_lexer": "ipython3",
   "version": "3.13.3"
  }
 },
 "nbformat": 4,
 "nbformat_minor": 5
}
